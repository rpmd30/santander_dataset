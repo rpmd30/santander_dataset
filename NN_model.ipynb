{
 "cells": [
  {
   "cell_type": "code",
   "execution_count": 1,
   "id": "0025c350-ef3b-4e81-8dfa-9f339814bfb9",
   "metadata": {},
   "outputs": [
    {
     "name": "stdout",
     "output_type": "stream",
     "text": [
      "mps\n"
     ]
    }
   ],
   "source": [
    "# Ravi Patel\n",
    "# Goal: Work with imbalanced target/response dataset with NN. \n",
    "\n",
    "import matplotlib.pyplot as plt\n",
    "import torch\n",
    "import pandas as pd\n",
    "from sklearn.model_selection import train_test_split\n",
    "from sklearn.metrics import (\n",
    "    classification_report,\n",
    "    RocCurveDisplay,\n",
    "    roc_auc_score,\n",
    "    roc_curve,\n",
    ")\n",
    "from sklearn.preprocessing import normalize\n",
    "import numpy as np\n",
    "\n",
    "if torch.cuda.is_available():\n",
    "    device = \"cuda\"\n",
    "elif torch.backends.mps.is_available():\n",
    "    device = \"mps\"\n",
    "else:\n",
    "    device = \"cpu\"\n",
    "print(device)"
   ]
  },
  {
   "cell_type": "code",
   "execution_count": 2,
   "id": "35712b6a-cc89-4f6d-ac60-0fc7bc5b459f",
   "metadata": {},
   "outputs": [],
   "source": [
    "EPOCHS = 5\n",
    "BATCH_SIZE = 32\n",
    "LEARNING_RATE = 0.003\n",
    "df = pd.read_csv(\"dataset/train.csv\")\n",
    "\n",
    "y = df[\"target\"].values\n",
    "\n",
    "del df[\"target\"]\n",
    "del df[\"ID_code\"]\n",
    "X = df.values\n",
    "\n",
    "X = normalize(X)\n",
    "X_train, X_test, y_train, y_test = train_test_split(X, y)"
   ]
  },
  {
   "cell_type": "code",
   "execution_count": 3,
   "id": "62e93097-bba7-46f8-ada6-c9211337d1d1",
   "metadata": {},
   "outputs": [
    {
     "data": {
      "text/plain": [
       "(array([135007.,      0.,      0.,      0.,      0.,      0.,      0.,\n",
       "             0.,      0.,  14993.]),\n",
       " array([0. , 0.1, 0.2, 0.3, 0.4, 0.5, 0.6, 0.7, 0.8, 0.9, 1. ]),\n",
       " <BarContainer object of 10 artists>)"
      ]
     },
     "execution_count": 3,
     "metadata": {},
     "output_type": "execute_result"
    },
    {
     "data": {
      "image/png": "[encoded data removed]",
      "text/plain": [
       "<Figure size 640x480 with 1 Axes>"
      ]
     },
     "metadata": {},
     "output_type": "display_data"
    }
   ],
   "source": [
    "plt.hist(y_train)"
   ]
  },
  {
   "cell_type": "code",
   "execution_count": 4,
   "id": "84434568-cabc-42e8-8ed6-7051c250cc03",
   "metadata": {},
   "outputs": [
    {
     "name": "stdout",
     "output_type": "stream",
     "text": [
      "y_train[:10]:[0 0 0 0 0 0 1 0 0 0]\n",
      "X_train[:10]:[[ 0.06203223 -0.02035415  0.04720565 ...  0.04892744  0.08062909\n",
      "  -0.06139995]\n",
      " [ 0.06069136 -0.05441829  0.05200146 ...  0.04928583  0.07663461\n",
      "  -0.03135901]\n",
      " [ 0.03751005  0.00668358  0.06885264 ...  0.04504646  0.08882105\n",
      "   0.02308337]\n",
      " ...\n",
      " [ 0.07920908 -0.01896831  0.0690019  ...  0.047296    0.0848454\n",
      "  -0.07267927]\n",
      " [ 0.09422581 -0.03931188  0.06317996 ...  0.05948301  0.07974861\n",
      "   0.00145433]\n",
      " [ 0.06127349 -0.01193873  0.04806825 ...  0.04803253  0.10128837\n",
      "   0.00717351]]\n",
      "y_test[:10]:[0 0 0 0 0 0 0 0 0 0]\n",
      "X_test[:10]:[[ 0.06347092 -0.04583348  0.05790416 ...  0.06639768  0.1050477\n",
      "   0.07043118]\n",
      " [ 0.0476456   0.01022432  0.04471841 ...  0.07420449  0.10699662\n",
      "  -0.03754955]\n",
      " [ 0.06307717  0.00917369  0.06443876 ...  0.0453112   0.08873925\n",
      "  -0.08076353]\n",
      " ...\n",
      " [ 0.0842884  -0.03321982  0.06715355 ...  0.06373734  0.09378246\n",
      "   0.06639209]\n",
      " [ 0.047579   -0.01805144  0.05108297 ...  0.05993878  0.10227779\n",
      "  -0.0098839 ]\n",
      " [ 0.0653213   0.02846696  0.07953584 ...  0.06028704  0.10550614\n",
      "  -0.013611  ]]\n"
     ]
    }
   ],
   "source": [
    "print(f\"y_train[:10]:{y_train[:10]}\")\n",
    "print(f\"X_train[:10]:{X_train[:10]}\")\n",
    "\n",
    "print(f\"y_test[:10]:{y_test[:10]}\")\n",
    "print(f\"X_test[:10]:{X_test[:10]}\")"
   ]
  },
  {
   "cell_type": "code",
   "execution_count": 5,
   "id": "0b8a74c8-2def-4cb6-bdc9-0b19b68e2a08",
   "metadata": {},
   "outputs": [],
   "source": [
    "class TransactionsDataset(torch.utils.data.Dataset):\n",
    "    def __init__(self, X, y):\n",
    "        self.X = X\n",
    "        self.y = y\n",
    "\n",
    "    def __len__(self):\n",
    "        return len(self.X)\n",
    "\n",
    "    def __getitem__(self, idx):\n",
    "        return self.X[idx].astype(np.float32), self.y[idx].astype(np.float32)\n",
    "\n",
    "\n",
    "dataset_train = TransactionsDataset(X_train, y_train)\n",
    "dataset_test = TransactionsDataset(X_test, y_test)\n",
    "dataloader_train = torch.utils.data.DataLoader(dataset_train, batch_size=BATCH_SIZE)\n",
    "dataloader_test = torch.utils.data.DataLoader(dataset_test, batch_size=BATCH_SIZE)"
   ]
  },
  {
   "cell_type": "code",
   "execution_count": 6,
   "id": "4e85d896-635c-47d8-b0e3-93e2f42dbe13",
   "metadata": {},
   "outputs": [],
   "source": [
    "class Model(torch.nn.Module):\n",
    "    def __init__(self):\n",
    "        super(Model, self).__init__()\n",
    "        self.linear_0 = torch.nn.Linear(200, 1024)\n",
    "        self.batch_norm_0 = torch.nn.BatchNorm1d(1024)\n",
    "        self.relu_0 = torch.nn.ReLU(1024)\n",
    "        self.linear_1 = torch.nn.Linear(1024, 2048)\n",
    "        self.batch_norm_1 = torch.nn.BatchNorm1d(2048)\n",
    "        self.relu_1 = torch.nn.ReLU(2048)\n",
    "        self.linear_2 = torch.nn.Linear(2048, 1024)\n",
    "        self.batch_norm_2 = torch.nn.BatchNorm1d(1024)\n",
    "        self.relu_2 = torch.nn.ReLU(1024)\n",
    "        self.dr_2 = torch.nn.Dropout1d(0.2)\n",
    "        self.linear_3 = torch.nn.Linear(1024, 512)\n",
    "        self.batch_norm_3 = torch.nn.BatchNorm1d(512)\n",
    "        self.relu_3 = torch.nn.ReLU(512)\n",
    "        self.linear_4 = torch.nn.Linear(512, 256)\n",
    "        self.batch_norm_4 = torch.nn.BatchNorm1d(256)\n",
    "        self.relu_4 = torch.nn.ReLU(256)\n",
    "        self.linear_5 = torch.nn.Linear(256, 128)\n",
    "        self.batch_norm_5 = torch.nn.BatchNorm1d(128)\n",
    "        self.relu_5 = torch.nn.ReLU(128)\n",
    "        self.dr_5 = torch.nn.Dropout1d(0.2)\n",
    "        self.linear_6 = torch.nn.Linear(128, 64)\n",
    "        self.batch_norm_6 = torch.nn.BatchNorm1d(64)\n",
    "        self.relu_6 = torch.nn.ReLU(64)\n",
    "        self.linear_7 = torch.nn.Linear(64, 16)\n",
    "        self.relu_7 = torch.nn.ReLU(16)\n",
    "        self.batch_norm_7 = torch.nn.BatchNorm1d(16)\n",
    "        self.linear_8 = torch.nn.Linear(16, 1)\n",
    "        self.relu_8 = torch.nn.ReLU(1)\n",
    "\n",
    "    def forward(self, x):\n",
    "        x = self.linear_0(x)\n",
    "        x = self.batch_norm_0(x)\n",
    "        x = self.relu_0(x)\n",
    "        x = self.linear_1(x)\n",
    "        x = self.batch_norm_1(x)\n",
    "        x = self.relu_1(x)\n",
    "        x = self.linear_2(x)\n",
    "        x = self.batch_norm_2(x)\n",
    "        x = self.relu_2(x)\n",
    "        x = self.dr_2(x)\n",
    "        x = self.linear_3(x)\n",
    "        x = self.batch_norm_3(x)\n",
    "        x = self.relu_3(x)\n",
    "        x = self.linear_4(x)\n",
    "        x = self.batch_norm_4(x)\n",
    "        x = self.relu_5(x)\n",
    "        x = self.dr_5(x)\n",
    "        x = self.linear_5(x)\n",
    "        x = self.batch_norm_5(x)\n",
    "        x = self.relu_6(x)\n",
    "        x = self.linear_6(x)\n",
    "        x = self.batch_norm_6(x)\n",
    "        x = self.relu_7(x)\n",
    "        x = self.linear_7(x)\n",
    "        x = self.batch_norm_7(x)\n",
    "        x = self.relu_8(x)\n",
    "        x = self.linear_8(x)\n",
    "        return x\n",
    "\n",
    "\n",
    "model = Model()\n",
    "model.to(device)\n",
    "checkpoint = None\n",
    "# we need to add some weight to the success values because the labels are very unbalanced\n",
    "loss_fn = torch.nn.BCEWithLogitsLoss(pos_weight=torch.Tensor([17.0 / 18.0]))\n",
    "loss_fn.to(device)\n",
    "min_test_loss = None\n",
    "optimizer = torch.optim.Adam(model.parameters(), lr=LEARNING_RATE)"
   ]
  },
  {
   "cell_type": "code",
   "execution_count": 7,
   "id": "198484b5-c39a-430a-95de-65a8a89a1848",
   "metadata": {},
   "outputs": [],
   "source": [
    "def train_loop(dataloader, model, loss_fn, optimizer):\n",
    "    size = len(dataloader.dataset)\n",
    "    # Set the model to training mode - important for batch normalization and dropout layers\n",
    "    # Unnecessary in this situation but added for best practices\n",
    "    model.train()\n",
    "    for batch, (X, y) in enumerate(dataloader):\n",
    "        # Compute prediction and loss\n",
    "        X = X.to(device)\n",
    "        y = y.to(device)\n",
    "        pred = model(X)\n",
    "        y = y.unsqueeze(1)\n",
    "        loss = loss_fn(pred, y)\n",
    "\n",
    "        # Backpropagation\n",
    "        loss.backward()\n",
    "        optimizer.step()\n",
    "        optimizer.zero_grad()\n",
    "        if batch % 1000 == 0:\n",
    "            loss, current = loss.item(), (batch + 1) * len(X)\n",
    "            print(f\"Train loss: {loss:>7f}  [{current:>5d}/{size:>5d}]\")\n",
    "    return model, optimizer\n",
    "\n",
    "\n",
    "def test_loop(\n",
    "    dataloader, model, loss_fn, min_loss, checkpoint, threshold_fn=torch.round\n",
    "):\n",
    "    # Set the model to evaluation mode - important for batch normalization and dropout layers\n",
    "    # Unnecessary in this situation but added for best practices\n",
    "    model.eval()\n",
    "    size = len(dataloader.dataset)\n",
    "    num_batches = len(dataloader)\n",
    "    test_loss, correct = 0, 0\n",
    "\n",
    "    preds = []\n",
    "    targets = []\n",
    "    # Evaluating the model with torch.no_grad() ensures that no gradients are computed during test mode\n",
    "    # also serves to reduce unnecessary gradient computations and memory usage for tensors with requires_grad=True\n",
    "    with torch.no_grad():\n",
    "        for X, y in dataloader:\n",
    "            X = X.to(device)\n",
    "            y = y.to(device)\n",
    "            y = y.unsqueeze(1)\n",
    "            pred = model(X)\n",
    "            test_loss += loss_fn(pred, y).item()\n",
    "            pred = torch.sigmoid(pred)\n",
    "            pred = threshold_fn(pred)\n",
    "            correct += (pred == y).sum().item()\n",
    "            preds.extend(pred.cpu().numpy())\n",
    "            targets.extend(y.cpu().numpy())\n",
    "    print(classification_report(targets, preds))\n",
    "\n",
    "    test_loss /= num_batches\n",
    "    if not min_loss:\n",
    "        min_loss = test_loss\n",
    "        checkpoint = model\n",
    "    if test_loss < min_loss:\n",
    "        min_loss = test_loss\n",
    "        checkpoint = model\n",
    "    correct /= size\n",
    "    print(f\"Checkpoint test loss: {min_loss:>7f}\")\n",
    "    print(\n",
    "        f\"Test Error: \\n Accuracy: {(100*correct):>0.1f}%, Avg loss: {test_loss:>8f} \\n\"\n",
    "    )\n",
    "    return min_loss, checkpoint"
   ]
  },
  {
   "cell_type": "code",
   "execution_count": 8,
   "id": "34242941-e1f7-47fc-b6f2-68df0bf4844e",
   "metadata": {},
   "outputs": [
    {
     "name": "stdout",
     "output_type": "stream",
     "text": [
      "Train loss: 0.869799  [   32/150000]\n",
      "Train loss: 0.174904  [32032/150000]\n",
      "Train loss: 0.460698  [64032/150000]\n",
      "Train loss: 0.232777  [96032/150000]\n",
      "Train loss: 0.390223  [128032/150000]\n",
      "              precision    recall  f1-score   support\n",
      "\n",
      "         0.0       0.90      1.00      0.95     44895\n",
      "         1.0       0.90      0.01      0.02      5105\n",
      "\n",
      "    accuracy                           0.90     50000\n",
      "   macro avg       0.90      0.50      0.48     50000\n",
      "weighted avg       0.90      0.90      0.85     50000\n",
      "\n",
      "Checkpoint test loss: 0.257013\n",
      "Test Error: \n",
      " Accuracy: 89.9%, Avg loss: 0.257013 \n",
      "\n",
      "Train loss: 0.231210  [   32/150000]\n",
      "Train loss: 0.226657  [32032/150000]\n",
      "Train loss: 0.374860  [64032/150000]\n",
      "Train loss: 0.159306  [96032/150000]\n",
      "Train loss: 0.332697  [128032/150000]\n",
      "              precision    recall  f1-score   support\n",
      "\n",
      "         0.0       0.90      1.00      0.95     44895\n",
      "         1.0       0.93      0.01      0.02      5105\n",
      "\n",
      "    accuracy                           0.90     50000\n",
      "   macro avg       0.92      0.50      0.48     50000\n",
      "weighted avg       0.90      0.90      0.85     50000\n",
      "\n",
      "Checkpoint test loss: 0.248153\n",
      "Test Error: \n",
      " Accuracy: 89.9%, Avg loss: 0.248153 \n",
      "\n",
      "Train loss: 0.250994  [   32/150000]\n",
      "Train loss: 0.273570  [32032/150000]\n",
      "Train loss: 0.384079  [64032/150000]\n",
      "Train loss: 0.165761  [96032/150000]\n",
      "Train loss: 0.364199  [128032/150000]\n",
      "              precision    recall  f1-score   support\n",
      "\n",
      "         0.0       0.90      1.00      0.95     44895\n",
      "         1.0       0.92      0.01      0.02      5105\n",
      "\n",
      "    accuracy                           0.90     50000\n",
      "   macro avg       0.91      0.51      0.48     50000\n",
      "weighted avg       0.90      0.90      0.85     50000\n",
      "\n",
      "Checkpoint test loss: 0.248153\n",
      "Test Error: \n",
      " Accuracy: 89.9%, Avg loss: 0.251503 \n",
      "\n",
      "Train loss: 0.240548  [   32/150000]\n",
      "Train loss: 0.298751  [32032/150000]\n",
      "Train loss: 0.363056  [64032/150000]\n",
      "Train loss: 0.166827  [96032/150000]\n",
      "Train loss: 0.320811  [128032/150000]\n",
      "              precision    recall  f1-score   support\n",
      "\n",
      "         0.0       0.90      1.00      0.95     44895\n",
      "         1.0       0.90      0.01      0.03      5105\n",
      "\n",
      "    accuracy                           0.90     50000\n",
      "   macro avg       0.90      0.51      0.49     50000\n",
      "weighted avg       0.90      0.90      0.85     50000\n",
      "\n",
      "Checkpoint test loss: 0.248153\n",
      "Test Error: \n",
      " Accuracy: 89.9%, Avg loss: 0.248372 \n",
      "\n",
      "Train loss: 0.190272  [   32/150000]\n",
      "Train loss: 0.282843  [32032/150000]\n",
      "Train loss: 0.392203  [64032/150000]\n",
      "Train loss: 0.170939  [96032/150000]\n",
      "Train loss: 0.287924  [128032/150000]\n",
      "              precision    recall  f1-score   support\n",
      "\n",
      "         0.0       0.90      1.00      0.95     44895\n",
      "         1.0       0.92      0.02      0.04      5105\n",
      "\n",
      "    accuracy                           0.90     50000\n",
      "   macro avg       0.91      0.51      0.49     50000\n",
      "weighted avg       0.90      0.90      0.85     50000\n",
      "\n",
      "Checkpoint test loss: 0.247900\n",
      "Test Error: \n",
      " Accuracy: 90.0%, Avg loss: 0.247900 \n",
      "\n"
     ]
    }
   ],
   "source": [
    "for i in range(EPOCHS):\n",
    "    model, optimizer = train_loop(dataloader_train, model, loss_fn, optimizer)\n",
    "    min_test_loss, checkpoint = test_loop(dataloader_test, model, loss_fn, min_test_loss, checkpoint)"
   ]
  },
  {
   "cell_type": "code",
   "execution_count": 9,
   "id": "77eeb4ec-fc53-43a4-a7c5-322d5a604925",
   "metadata": {},
   "outputs": [
    {
     "name": "stdout",
     "output_type": "stream",
     "text": [
      "Final checkpoint model loss: 0.2478995443281842\n"
     ]
    }
   ],
   "source": [
    "print(f\"Final checkpoint model loss: {min_test_loss}\")"
   ]
  },
  {
   "cell_type": "code",
   "execution_count": 10,
   "id": "412b3261-2f68-4316-b8c9-0aa836cd1e19",
   "metadata": {},
   "outputs": [],
   "source": [
    "# Recall is less than ideal, but this dataset is fairly imbalanced toward 0 for the label."
   ]
  },
  {
   "cell_type": "code",
   "execution_count": 11,
   "id": "60894361-6743-4518-8ba0-bc502f3d119b",
   "metadata": {},
   "outputs": [
    {
     "data": {
      "image/png": "[encoded data removed]",
      "text/plain": [
       "<Figure size 640x480 with 1 Axes>"
      ]
     },
     "metadata": {},
     "output_type": "display_data"
    }
   ],
   "source": [
    "def get_roc_auc(dataloader_test, model):\n",
    "    model.eval()\n",
    "    preds = []\n",
    "    targets = []\n",
    "    with torch.no_grad():\n",
    "        for X, y in dataloader_test:\n",
    "            X = X.to(device)\n",
    "            pred = model(X)\n",
    "            pred = torch.sigmoid(pred)\n",
    "            preds.extend(pred.cpu().numpy())\n",
    "            targets.extend(y.cpu().numpy())\n",
    "    RocCurveDisplay.from_predictions(\n",
    "        targets,\n",
    "        preds,\n",
    "        name=f\"ROC\",\n",
    "        color=\"darkorange\",\n",
    "    )\n",
    "    auc = roc_auc_score(targets, preds)\n",
    "    fps, tps, thresholds = roc_curve(targets, preds)\n",
    "    return (auc, fps, tps, thresholds)\n",
    "\n",
    "\n",
    "auc, fps, tps, thresholds = get_roc_auc(dataloader_test, model)"
   ]
  },
  {
   "cell_type": "code",
   "execution_count": 12,
   "id": "899a2496",
   "metadata": {},
   "outputs": [
    {
     "name": "stdout",
     "output_type": "stream",
     "text": [
      "Best Threshold=0.078424, G-Mean=0.774\n"
     ]
    }
   ],
   "source": [
    "gmeans = np.sqrt(tps * (1 - fps))\n",
    "i = np.argmax(gmeans)\n",
    "print(\"Best Threshold=%f, G-Mean=%.3f\" % (thresholds[i], gmeans[i]))"
   ]
  },
  {
   "cell_type": "code",
   "execution_count": 13,
   "id": "65383d7a",
   "metadata": {},
   "outputs": [
    {
     "name": "stdout",
     "output_type": "stream",
     "text": [
      "              precision    recall  f1-score   support\n",
      "\n",
      "         0.0       0.97      0.79      0.87     44895\n",
      "         1.0       0.29      0.75      0.42      5105\n",
      "\n",
      "    accuracy                           0.79     50000\n",
      "   macro avg       0.63      0.77      0.65     50000\n",
      "weighted avg       0.90      0.79      0.83     50000\n",
      "\n",
      "Checkpoint test loss: 0.247900\n",
      "Test Error: \n",
      " Accuracy: 79.0%, Avg loss: 0.247900 \n",
      "\n"
     ]
    }
   ],
   "source": [
    "_, _ = test_loop(\n",
    "    dataloader_test,\n",
    "    model,\n",
    "    loss_fn,\n",
    "    min_test_loss,\n",
    "    checkpoint,\n",
    "    lambda x: (x > thresholds[i]).type(torch.int8),\n",
    ")"
   ]
  },
  {
   "cell_type": "code",
   "execution_count": 14,
   "id": "4e8f66a3",
   "metadata": {},
   "outputs": [],
   "source": [
    "# Adjusting the threshold from round to manual, our recall has significantly increased but have lost precision.\n",
    "# The real question here is what is actually important in terms of risk. "
   ]
  }
 ],
 "metadata": {
  "kernelspec": {
   "display_name": "Python 3 (ipykernel)",
   "language": "python",
   "name": "python3"
  },
  "language_info": {
   "codemirror_mode": {
    "name": "ipython",
    "version": 3
   },
   "file_extension": ".py",
   "mimetype": "text/x-python",
   "name": "python",
   "nbconvert_exporter": "python",
   "pygments_lexer": "ipython3",
   "version": "3.10.12"
  }
 },
 "nbformat": 4,
 "nbformat_minor": 5
}
