{
 "cells": [
  {
   "cell_type": "code",
   "execution_count": 1,
   "id": "0025c350-ef3b-4e81-8dfa-9f339814bfb9",
   "metadata": {},
   "outputs": [
    {
     "name": "stdout",
     "output_type": "stream",
     "text": [
      "mps\n"
     ]
    }
   ],
   "source": [
    "# Ravi Patel\n",
    "\n",
    "import matplotlib.pyplot as plt\n",
    "import torch\n",
    "import pandas as pd\n",
    "from sklearn.model_selection import train_test_split\n",
    "from sklearn.metrics import classification_report, RocCurveDisplay, roc_auc_score, roc_curve\n",
    "from sklearn.preprocessing import normalize\n",
    "import numpy as np\n",
    "if torch.cuda.is_available():\n",
    "    device = 'cuda'\n",
    "elif torch.backends.mps.is_available():\n",
    "    device = 'mps'\n",
    "else:\n",
    "    device = 'cpu'\n",
    "print(device)"
   ]
  },
  {
   "cell_type": "code",
   "execution_count": 2,
   "id": "35712b6a-cc89-4f6d-ac60-0fc7bc5b459f",
   "metadata": {},
   "outputs": [],
   "source": [
    "EPOCHS=5\n",
    "BATCH_SIZE=32\n",
    "LEARNING_RATE=.003\n",
    "df = pd.read_csv('dataset/train.csv')\n",
    "\n",
    "y = df['target'].values\n",
    "\n",
    "del df['target']\n",
    "del df['ID_code']\n",
    "X = df.values\n",
    "\n",
    "X = normalize(X)\n",
    "X_train, X_test, y_train, y_test = train_test_split(X,y)"
   ]
  },
  {
   "cell_type": "code",
   "execution_count": 3,
   "id": "62e93097-bba7-46f8-ada6-c9211337d1d1",
   "metadata": {},
   "outputs": [
    {
     "data": {
      "text/plain": [
       "(array([134974.,      0.,      0.,      0.,      0.,      0.,      0.,\n",
       "             0.,      0.,  15026.]),\n",
       " array([0. , 0.1, 0.2, 0.3, 0.4, 0.5, 0.6, 0.7, 0.8, 0.9, 1. ]),\n",
       " <BarContainer object of 10 artists>)"
      ]
     },
     "execution_count": 3,
     "metadata": {},
     "output_type": "execute_result"
    },
    {
     "data": {
      "image/png": "[encoded data removed]",
      "text/plain": [
       "<Figure size 640x480 with 1 Axes>"
      ]
     },
     "metadata": {},
     "output_type": "display_data"
    }
   ],
   "source": [
    "plt.hist(y_train)"
   ]
  },
  {
   "cell_type": "code",
   "execution_count": 4,
   "id": "84434568-cabc-42e8-8ed6-7051c250cc03",
   "metadata": {},
   "outputs": [
    {
     "name": "stdout",
     "output_type": "stream",
     "text": [
      "y_train[:10]:[0 0 0 1 0 0 0 0 1 0]\n",
      "X_train[:10]:[[ 0.04618266  0.01481902  0.05218988 ...  0.06454197  0.10205487\n",
      "  -0.05255556]\n",
      " [ 0.07723054 -0.05259127  0.06922293 ...  0.05502028  0.08147032\n",
      "  -0.03530345]\n",
      " [ 0.10042272 -0.01715254  0.06649283 ...  0.04826786  0.10207357\n",
      "  -0.00656211]\n",
      " ...\n",
      " [ 0.0804875  -0.01210927  0.03651467 ...  0.05824305  0.10005728\n",
      "  -0.02639998]\n",
      " [ 0.06169565 -0.01590059  0.04362649 ...  0.043143    0.09909871\n",
      "  -0.01388431]\n",
      " [ 0.07416682  0.0392708   0.03904798 ...  0.04566126  0.07558411\n",
      "  -0.02894257]]\n",
      "y_test[:10]:[0 0 0 1 0 0 0 0 0 0]\n",
      "X_test[:10]:[[ 0.07979224 -0.00826486  0.08920336 ...  0.06173154  0.12540578\n",
      "   0.04399232]\n",
      " [ 0.073402    0.00440825  0.09177779 ...  0.05023669  0.09069084\n",
      "  -0.16359845]\n",
      " [ 0.09771078 -0.00293644  0.05894467 ...  0.0629938   0.11819621\n",
      "  -0.08829743]\n",
      " ...\n",
      " [ 0.06404875 -0.04326877  0.06567631 ...  0.05005141  0.07399665\n",
      "  -0.12675894]\n",
      " [ 0.09579913  0.00782414  0.07540898 ...  0.04934815  0.09876879\n",
      "  -0.14296599]\n",
      " [ 0.05299742 -0.04375386  0.0647119  ...  0.05221138  0.09461292\n",
      "   0.10780298]]\n"
     ]
    }
   ],
   "source": [
    "print(f\"y_train[:10]:{y_train[:10]}\")\n",
    "print(f\"X_train[:10]:{X_train[:10]}\")\n",
    "\n",
    "print(f\"y_test[:10]:{y_test[:10]}\")\n",
    "print(f\"X_test[:10]:{X_test[:10]}\")"
   ]
  },
  {
   "cell_type": "code",
   "execution_count": 5,
   "id": "0b8a74c8-2def-4cb6-bdc9-0b19b68e2a08",
   "metadata": {},
   "outputs": [],
   "source": [
    "class TransactionsDataset(torch.utils.data.Dataset):\n",
    "    def __init__(self,X,y):\n",
    "        self.X = X\n",
    "        self.y = y\n",
    "    def __len__(self):\n",
    "        return len(self.X)\n",
    "    def __getitem__(self,idx):\n",
    "        return self.X[idx].astype(np.float32), self.y[idx].astype(np.float32)\n",
    "\n",
    "dataset_train = TransactionsDataset(X_train,y_train)\n",
    "dataset_test = TransactionsDataset(X_test,y_test)\n",
    "dataloader_train = torch.utils.data.DataLoader(dataset_train,batch_size=BATCH_SIZE)\n",
    "dataloader_test = torch.utils.data.DataLoader(dataset_test,batch_size=BATCH_SIZE)"
   ]
  },
  {
   "cell_type": "code",
   "execution_count": 6,
   "id": "4e85d896-635c-47d8-b0e3-93e2f42dbe13",
   "metadata": {},
   "outputs": [],
   "source": [
    "class Model(torch.nn.Module):\n",
    "    def __init__(self):\n",
    "        super(Model,self).__init__()\n",
    "        self.linear_0 = torch.nn.Linear(200,1024)\n",
    "        self.batch_norm_0 = torch.nn.BatchNorm1d(1024)\n",
    "        self.relu_0 = torch.nn.ReLU(1024)\n",
    "        self.linear_1 = torch.nn.Linear(1024,2048)\n",
    "        self.batch_norm_1 = torch.nn.BatchNorm1d(2048)\n",
    "        self.relu_1 = torch.nn.ReLU(2048)\n",
    "        self.linear_2 = torch.nn.Linear(2048,1024)\n",
    "        self.batch_norm_2 = torch.nn.BatchNorm1d(1024)\n",
    "        self.relu_2 = torch.nn.ReLU(1024)\n",
    "        self.dr_2 = torch.nn.Dropout1d(.2)\n",
    "        self.linear_3 = torch.nn.Linear(1024,512)\n",
    "        self.batch_norm_3 = torch.nn.BatchNorm1d(512)\n",
    "        self.relu_3 = torch.nn.ReLU(512)\n",
    "        self.linear_4 = torch.nn.Linear(512,256)\n",
    "        self.batch_norm_4 = torch.nn.BatchNorm1d(256)\n",
    "        self.relu_4 = torch.nn.ReLU(256)\n",
    "        self.linear_5 = torch.nn.Linear(256,128)\n",
    "        self.batch_norm_5 = torch.nn.BatchNorm1d(128)\n",
    "        self.relu_5 = torch.nn.ReLU(128)\n",
    "        self.dr_5 = torch.nn.Dropout1d(.2)\n",
    "        self.linear_6 = torch.nn.Linear(128,64)\n",
    "        self.batch_norm_6 = torch.nn.BatchNorm1d(64)\n",
    "        self.relu_6 = torch.nn.ReLU(64)\n",
    "        self.linear_7 = torch.nn.Linear(64,16)\n",
    "        self.relu_7 = torch.nn.ReLU(16)\n",
    "        self.batch_norm_7 = torch.nn.BatchNorm1d(16)\n",
    "        self.linear_8 = torch.nn.Linear(16,1)\n",
    "        self.relu_8 = torch.nn.ReLU(1)\n",
    "    \n",
    "    def forward(self,x):\n",
    "        x = self.linear_0(x)\n",
    "        x = self.batch_norm_0(x)\n",
    "        x = self.relu_0(x)\n",
    "        x = self.linear_1(x)\n",
    "        x = self.batch_norm_1(x)\n",
    "        x = self.relu_1(x)\n",
    "        x = self.linear_2(x)\n",
    "        x = self.batch_norm_2(x)\n",
    "        x = self.relu_2(x)\n",
    "        x = self.dr_2(x)\n",
    "        x = self.linear_3(x)\n",
    "        x = self.batch_norm_3(x)\n",
    "        x = self.relu_3(x)\n",
    "        x = self.linear_4(x)\n",
    "        x = self.batch_norm_4(x)\n",
    "        x = self.relu_5(x)\n",
    "        x = self.dr_5(x)\n",
    "        x = self.linear_5(x)\n",
    "        x = self.batch_norm_5(x)\n",
    "        x = self.relu_6(x)\n",
    "        x = self.linear_6(x)\n",
    "        x = self.batch_norm_6(x)\n",
    "        x = self.relu_7(x)\n",
    "        x = self.linear_7(x)\n",
    "        x = self.batch_norm_7(x)\n",
    "        x = self.relu_8(x)\n",
    "        x = self.linear_8(x)\n",
    "        return x\n",
    "    \n",
    "\n",
    "model = Model()\n",
    "model.to(device)\n",
    "checkpoint = None\n",
    "# we need to add some weight to the success values because the labels are very unbalanced\n",
    "loss = torch.nn.BCEWithLogitsLoss(pos_weight=torch.Tensor([17.0/18.0]))\n",
    "loss.to(device)\n",
    "min_loss = None\n",
    "optimizer = torch.optim.Adam(model.parameters(),lr=LEARNING_RATE)"
   ]
  },
  {
   "cell_type": "code",
   "execution_count": 7,
   "id": "198484b5-c39a-430a-95de-65a8a89a1848",
   "metadata": {},
   "outputs": [],
   "source": [
    "def train_loop(dataloader, model, loss_fn, optimizer, min_loss, checkpoint):\n",
    "    size = len(dataloader.dataset)\n",
    "    # Set the model to training mode - important for batch normalization and dropout layers\n",
    "    # Unnecessary in this situation but added for best practices\n",
    "    model.train()\n",
    "    for batch, (X, y) in enumerate(dataloader):\n",
    "        # Compute prediction and loss\n",
    "        X = X.to(device)\n",
    "        y = y.to(device)\n",
    "        pred = model(X)\n",
    "        y = y.unsqueeze(1)\n",
    "        loss = loss_fn(pred, y)\n",
    "\n",
    "        # Backpropagation\n",
    "        loss.backward()\n",
    "        optimizer.step()\n",
    "        optimizer.zero_grad()\n",
    "        if batch % 1000 == 0:\n",
    "            loss, current = loss.item(), (batch + 1) * len(X)\n",
    "            print(f\"Train loss: {loss:>7f}  [{current:>5d}/{size:>5d}]\")\n",
    "    if not min_loss:\n",
    "        min_loss = loss\n",
    "        checkpoint = model\n",
    "    if loss.item() < min_loss.item():\n",
    "        min_loss = loss\n",
    "        checkpoint = model\n",
    "    print(f\"Checkpoint training loss:{min_loss:>7f}\")\n",
    "    return model, optimizer, min_loss, checkpoint\n",
    "\n",
    "def test_loop(dataloader, model, loss_fn, threshold_fn = torch.round):\n",
    "    # Set the model to evaluation mode - important for batch normalization and dropout layers\n",
    "    # Unnecessary in this situation but added for best practices\n",
    "    model.eval()\n",
    "    size = len(dataloader.dataset)\n",
    "    num_batches = len(dataloader)\n",
    "    test_loss, correct = 0, 0\n",
    "\n",
    "    preds = []\n",
    "    targets = []\n",
    "    # Evaluating the model with torch.no_grad() ensures that no gradients are computed during test mode\n",
    "    # also serves to reduce unnecessary gradient computations and memory usage for tensors with requires_grad=True\n",
    "    with torch.no_grad():\n",
    "        for X, y in dataloader:\n",
    "            X = X.to(device)\n",
    "            y = y.to(device)\n",
    "            y = y.unsqueeze(1)\n",
    "            pred = model(X)\n",
    "            test_loss += loss_fn(pred, y).item()\n",
    "            pred = torch.sigmoid(pred)\n",
    "            pred = threshold_fn(pred)\n",
    "            correct += (pred == y).sum().item()\n",
    "            preds.extend(pred.cpu().numpy())\n",
    "            targets.extend(y.cpu().numpy())\n",
    "    print(classification_report(targets,preds))\n",
    "            \n",
    "\n",
    "    test_loss /= num_batches\n",
    "    correct /= size\n",
    "    print(f\"Test Error: \\n Accuracy: {(100*correct):>0.1f}%, Avg loss: {test_loss:>8f} \\n\")"
   ]
  },
  {
   "cell_type": "code",
   "execution_count": 8,
   "id": "34242941-e1f7-47fc-b6f2-68df0bf4844e",
   "metadata": {},
   "outputs": [
    {
     "name": "stdout",
     "output_type": "stream",
     "text": [
      "Train loss: 0.599502  [   32/150000]\n",
      "Train loss: 0.185506  [32032/150000]\n",
      "Train loss: 0.174006  [64032/150000]\n",
      "Train loss: 0.566167  [96032/150000]\n",
      "Train loss: 0.192342  [128032/150000]\n",
      "Checkpoint training loss:0.404640\n",
      "              precision    recall  f1-score   support\n",
      "\n",
      "         0.0       0.90      1.00      0.95     44928\n",
      "         1.0       0.85      0.07      0.13      5072\n",
      "\n",
      "    accuracy                           0.90     50000\n",
      "   macro avg       0.88      0.53      0.54     50000\n",
      "weighted avg       0.90      0.90      0.87     50000\n",
      "\n",
      "Test Error: \n",
      " Accuracy: 90.4%, Avg loss: 0.242471 \n",
      "\n",
      "Train loss: 0.273231  [   32/150000]\n",
      "Train loss: 0.192182  [32032/150000]\n",
      "Train loss: 0.173062  [64032/150000]\n",
      "Train loss: 0.503392  [96032/150000]\n",
      "Train loss: 0.227225  [128032/150000]\n",
      "Checkpoint training loss:0.404640\n",
      "              precision    recall  f1-score   support\n",
      "\n",
      "         0.0       0.91      1.00      0.95     44928\n",
      "         1.0       0.81      0.10      0.18      5072\n",
      "\n",
      "    accuracy                           0.91     50000\n",
      "   macro avg       0.86      0.55      0.57     50000\n",
      "weighted avg       0.90      0.91      0.87     50000\n",
      "\n",
      "Test Error: \n",
      " Accuracy: 90.6%, Avg loss: 0.238477 \n",
      "\n",
      "Train loss: 0.278637  [   32/150000]\n",
      "Train loss: 0.113490  [32032/150000]\n",
      "Train loss: 0.139958  [64032/150000]\n",
      "Train loss: 0.491118  [96032/150000]\n",
      "Train loss: 0.123616  [128032/150000]\n",
      "Checkpoint training loss:0.382570\n",
      "              precision    recall  f1-score   support\n",
      "\n",
      "         0.0       0.91      1.00      0.95     44928\n",
      "         1.0       0.83      0.11      0.20      5072\n",
      "\n",
      "    accuracy                           0.91     50000\n",
      "   macro avg       0.87      0.56      0.58     50000\n",
      "weighted avg       0.90      0.91      0.88     50000\n",
      "\n",
      "Test Error: \n",
      " Accuracy: 90.8%, Avg loss: 0.238358 \n",
      "\n",
      "Train loss: 0.238377  [   32/150000]\n",
      "Train loss: 0.135373  [32032/150000]\n",
      "Train loss: 0.134384  [64032/150000]\n",
      "Train loss: 0.537166  [96032/150000]\n",
      "Train loss: 0.140817  [128032/150000]\n",
      "Checkpoint training loss:0.312592\n",
      "              precision    recall  f1-score   support\n",
      "\n",
      "         0.0       0.90      1.00      0.95     44928\n",
      "         1.0       0.90      0.04      0.08      5072\n",
      "\n",
      "    accuracy                           0.90     50000\n",
      "   macro avg       0.90      0.52      0.51     50000\n",
      "weighted avg       0.90      0.90      0.86     50000\n",
      "\n",
      "Test Error: \n",
      " Accuracy: 90.2%, Avg loss: 0.239215 \n",
      "\n",
      "Train loss: 0.231482  [   32/150000]\n",
      "Train loss: 0.180257  [32032/150000]\n",
      "Train loss: 0.137805  [64032/150000]\n",
      "Train loss: 0.561367  [96032/150000]\n",
      "Train loss: 0.180024  [128032/150000]\n",
      "Checkpoint training loss:0.312592\n",
      "              precision    recall  f1-score   support\n",
      "\n",
      "         0.0       0.90      1.00      0.95     44928\n",
      "         1.0       0.86      0.07      0.13      5072\n",
      "\n",
      "    accuracy                           0.90     50000\n",
      "   macro avg       0.88      0.53      0.54     50000\n",
      "weighted avg       0.90      0.90      0.87     50000\n",
      "\n",
      "Test Error: \n",
      " Accuracy: 90.4%, Avg loss: 0.238643 \n",
      "\n"
     ]
    }
   ],
   "source": [
    "for i in range(EPOCHS):\n",
    "    model, optimizer, min_loss, checkpoint = train_loop(dataloader_train, model, loss, optimizer, min_loss, checkpoint)\n",
    "    test_loop(dataloader_test, model, loss)"
   ]
  },
  {
   "cell_type": "code",
   "execution_count": 9,
   "id": "77eeb4ec-fc53-43a4-a7c5-322d5a604925",
   "metadata": {},
   "outputs": [
    {
     "name": "stdout",
     "output_type": "stream",
     "text": [
      "Final checkpoint model loss: 0.3125920593738556\n"
     ]
    }
   ],
   "source": [
    "print(f\"Final checkpoint model loss: {min_loss.item()}\")"
   ]
  },
  {
   "cell_type": "code",
   "execution_count": 10,
   "id": "412b3261-2f68-4316-b8c9-0aa836cd1e19",
   "metadata": {},
   "outputs": [],
   "source": [
    "# Recall is less than ideal, but this dataset is fairly imbalanced toward 0 for the label."
   ]
  },
  {
   "cell_type": "code",
   "execution_count": 11,
   "id": "60894361-6743-4518-8ba0-bc502f3d119b",
   "metadata": {},
   "outputs": [
    {
     "data": {
      "image/png": "[encoded data removed]",
      "text/plain": [
       "<Figure size 640x480 with 1 Axes>"
      ]
     },
     "metadata": {},
     "output_type": "display_data"
    }
   ],
   "source": [
    "def get_roc_auc(dataloader_test, model):\n",
    "    model.eval()\n",
    "    preds = []\n",
    "    targets = []\n",
    "    with torch.no_grad():\n",
    "        for X, y in dataloader_test:\n",
    "            X = X.to(device)\n",
    "            pred = model(X)\n",
    "            pred = torch.sigmoid(pred)\n",
    "            preds.extend(pred.cpu().numpy())\n",
    "            targets.extend(y.cpu().numpy())\n",
    "    RocCurveDisplay.from_predictions(\n",
    "        targets,\n",
    "        preds,\n",
    "        name=f\"ROC\",\n",
    "        color=\"darkorange\",\n",
    "    )\n",
    "    auc = roc_auc_score(targets, preds)\n",
    "    fps, tps, thresholds = roc_curve(targets, preds)\n",
    "    return (auc, fps, tps, thresholds)\n",
    "\n",
    "\n",
    "auc, fps, tps, thresholds = get_roc_auc(dataloader_test, model)"
   ]
  },
  {
   "cell_type": "code",
   "execution_count": 12,
   "id": "899a2496",
   "metadata": {},
   "outputs": [
    {
     "name": "stdout",
     "output_type": "stream",
     "text": [
      "Best Threshold=0.076404, G-Mean=0.768\n"
     ]
    }
   ],
   "source": [
    "gmeans = np.sqrt(tps * (1-fps))\n",
    "i = np.argmax(gmeans)\n",
    "print('Best Threshold=%f, G-Mean=%.3f' % (thresholds[i], gmeans[i]))"
   ]
  },
  {
   "cell_type": "code",
   "execution_count": 13,
   "id": "65383d7a",
   "metadata": {},
   "outputs": [
    {
     "name": "stdout",
     "output_type": "stream",
     "text": [
      "              precision    recall  f1-score   support\n",
      "\n",
      "         0.0       0.97      0.76      0.85     44928\n",
      "         1.0       0.27      0.78      0.40      5072\n",
      "\n",
      "    accuracy                           0.76     50000\n",
      "   macro avg       0.62      0.77      0.62     50000\n",
      "weighted avg       0.90      0.76      0.80     50000\n",
      "\n",
      "Test Error: \n",
      " Accuracy: 76.1%, Avg loss: 0.238643 \n",
      "\n"
     ]
    }
   ],
   "source": [
    "test_loop(dataloader_test,model,loss,lambda x: (x > thresholds[i]).type(torch.int8))"
   ]
  },
  {
   "cell_type": "code",
   "execution_count": 14,
   "id": "4e8f66a3",
   "metadata": {},
   "outputs": [],
   "source": [
    "# Adjusting the threshold from round to manual, our recall has significantly increased but have lost precision.\n",
    "# The real question here is what is actually important in terms of risk. "
   ]
  }
 ],
 "metadata": {
  "kernelspec": {
   "display_name": "Python 3 (ipykernel)",
   "language": "python",
   "name": "python3"
  },
  "language_info": {
   "codemirror_mode": {
    "name": "ipython",
    "version": 3
   },
   "file_extension": ".py",
   "mimetype": "text/x-python",
   "name": "python",
   "nbconvert_exporter": "python",
   "pygments_lexer": "ipython3",
   "version": "3.10.12"
  }
 },
 "nbformat": 4,
 "nbformat_minor": 5
}
