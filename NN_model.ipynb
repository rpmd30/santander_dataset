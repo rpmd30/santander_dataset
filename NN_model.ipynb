{
 "cells": [
  {
   "cell_type": "code",
   "execution_count": 1,
   "id": "0025c350-ef3b-4e81-8dfa-9f339814bfb9",
   "metadata": {},
   "outputs": [
    {
     "name": "stdout",
     "output_type": "stream",
     "text": [
      "mps\n"
     ]
    }
   ],
   "source": [
    "# Ravi Patel\n",
    "# Goal: Work with imbalanced target/response dataset with NN. \n",
    "\n",
    "import matplotlib.pyplot as plt\n",
    "import torch\n",
    "import pandas as pd\n",
    "from sklearn.model_selection import train_test_split\n",
    "from sklearn.metrics import (\n",
    "    classification_report,\n",
    "    RocCurveDisplay,\n",
    "    roc_auc_score,\n",
    "    roc_curve,\n",
    ")\n",
    "from sklearn.preprocessing import normalize\n",
    "import numpy as np\n",
    "\n",
    "if torch.cuda.is_available():\n",
    "    device = \"cuda\"\n",
    "elif torch.backends.mps.is_available():\n",
    "    device = \"mps\"\n",
    "else:\n",
    "    device = \"cpu\"\n",
    "print(device)"
   ]
  },
  {
   "cell_type": "code",
   "execution_count": 2,
   "id": "35712b6a-cc89-4f6d-ac60-0fc7bc5b459f",
   "metadata": {},
   "outputs": [],
   "source": [
    "EPOCHS = 5\n",
    "BATCH_SIZE = 32\n",
    "LEARNING_RATE = 0.003\n",
    "df = pd.read_csv(\"dataset/train.csv\")\n",
    "\n",
    "y = df[\"target\"].values\n",
    "\n",
    "del df[\"target\"]\n",
    "del df[\"ID_code\"]\n",
    "X = df.values\n",
    "\n",
    "X = normalize(X)\n",
    "X_train, X_test, y_train, y_test = train_test_split(X, y)"
   ]
  },
  {
   "cell_type": "code",
   "execution_count": 3,
   "id": "62e93097-bba7-46f8-ada6-c9211337d1d1",
   "metadata": {},
   "outputs": [
    {
     "data": {
      "text/plain": [
       "(array([134986.,      0.,      0.,      0.,      0.,      0.,      0.,\n",
       "             0.,      0.,  15014.]),\n",
       " array([0. , 0.1, 0.2, 0.3, 0.4, 0.5, 0.6, 0.7, 0.8, 0.9, 1. ]),\n",
       " <BarContainer object of 10 artists>)"
      ]
     },
     "execution_count": 3,
     "metadata": {},
     "output_type": "execute_result"
    },
    {
     "data": {
      "image/png": "[encoded data removed]",
      "text/plain": [
       "<Figure size 640x480 with 1 Axes>"
      ]
     },
     "metadata": {},
     "output_type": "display_data"
    }
   ],
   "source": [
    "plt.hist(y_train)"
   ]
  },
  {
   "cell_type": "code",
   "execution_count": 4,
   "id": "84434568-cabc-42e8-8ed6-7051c250cc03",
   "metadata": {},
   "outputs": [
    {
     "name": "stdout",
     "output_type": "stream",
     "text": [
      "y_train[:10]:[0 0 0 0 0 0 0 1 0 0]\n",
      "X_train[:10]:[[ 0.06776873 -0.04869357  0.10639176 ...  0.053876    0.10972951\n",
      "  -0.08646296]\n",
      " [ 0.07676136  0.02963468  0.05714799 ...  0.04740969  0.07475129\n",
      "  -0.11524624]\n",
      " [ 0.09638375 -0.06505823  0.08794657 ...  0.04665594  0.09229612\n",
      "   0.02920423]\n",
      " ...\n",
      " [ 0.07655086 -0.00600001  0.07271554 ...  0.05672245  0.09509813\n",
      "  -0.0516765 ]\n",
      " [ 0.05457903 -0.01395666  0.08382528 ...  0.0504431   0.11996782\n",
      "  -0.09273507]\n",
      " [ 0.08509823 -0.04543475  0.05244086 ...  0.04879798  0.06520137\n",
      "   0.03973906]]\n",
      "y_test[:10]:[0 1 0 0 0 0 0 0 0 0]\n",
      "X_test[:10]:[[ 0.06340721 -0.02281813  0.07516983 ...  0.05736206  0.07991994\n",
      "   0.04157829]\n",
      " [ 0.0955203  -0.0500667   0.08011141 ...  0.06069851  0.10587619\n",
      "   0.01969597]\n",
      " [ 0.05233312  0.00926512  0.03825561 ...  0.06071102  0.097518\n",
      "   0.05838511]\n",
      " ...\n",
      " [ 0.05967877 -0.00579117  0.0522927  ...  0.06331373  0.10481888\n",
      "   0.01961345]\n",
      " [ 0.09255682 -0.03758484  0.05629836 ...  0.04851082  0.12464754\n",
      "  -0.09375191]\n",
      " [ 0.0718424   0.00387852  0.07575206 ...  0.04923438  0.10063944\n",
      "   0.04924354]]\n"
     ]
    }
   ],
   "source": [
    "print(f\"y_train[:10]:{y_train[:10]}\")\n",
    "print(f\"X_train[:10]:{X_train[:10]}\")\n",
    "\n",
    "print(f\"y_test[:10]:{y_test[:10]}\")\n",
    "print(f\"X_test[:10]:{X_test[:10]}\")"
   ]
  },
  {
   "cell_type": "code",
   "execution_count": 5,
   "id": "0b8a74c8-2def-4cb6-bdc9-0b19b68e2a08",
   "metadata": {},
   "outputs": [],
   "source": [
    "class TransactionsDataset(torch.utils.data.Dataset):\n",
    "    def __init__(self, X, y):\n",
    "        self.X = X\n",
    "        self.y = y\n",
    "\n",
    "    def __len__(self):\n",
    "        return len(self.X)\n",
    "\n",
    "    def __getitem__(self, idx):\n",
    "        return self.X[idx].astype(np.float32), self.y[idx].astype(np.float32)\n",
    "\n",
    "\n",
    "dataset_train = TransactionsDataset(X_train, y_train)\n",
    "dataset_test = TransactionsDataset(X_test, y_test)\n",
    "dataloader_train = torch.utils.data.DataLoader(dataset_train, batch_size=BATCH_SIZE)\n",
    "dataloader_test = torch.utils.data.DataLoader(dataset_test, batch_size=BATCH_SIZE)"
   ]
  },
  {
   "cell_type": "code",
   "execution_count": 6,
   "id": "4e85d896-635c-47d8-b0e3-93e2f42dbe13",
   "metadata": {},
   "outputs": [],
   "source": [
    "class Model(torch.nn.Module):\n",
    "    def __init__(self):\n",
    "        super(Model, self).__init__()\n",
    "        self.relu = torch.nn.ReLU()\n",
    "\n",
    "        self.linear_0 = torch.nn.Linear(200, 1024)\n",
    "        self.batch_norm_0 = torch.nn.BatchNorm1d(1024)\n",
    "        self.linear_1 = torch.nn.Linear(1024, 2048)\n",
    "        self.batch_norm_1 = torch.nn.BatchNorm1d(2048)\n",
    "        self.linear_2 = torch.nn.Linear(2048, 1024)\n",
    "        self.batch_norm_2 = torch.nn.BatchNorm1d(1024)\n",
    "        self.dr_2 = torch.nn.Dropout1d(0.2)\n",
    "        self.linear_3 = torch.nn.Linear(1024, 512)\n",
    "        self.batch_norm_3 = torch.nn.BatchNorm1d(512)\n",
    "        self.linear_4 = torch.nn.Linear(512, 256)\n",
    "        self.batch_norm_4 = torch.nn.BatchNorm1d(256)\n",
    "        self.linear_5 = torch.nn.Linear(256, 128)\n",
    "        self.batch_norm_5 = torch.nn.BatchNorm1d(128)\n",
    "        self.dr_5 = torch.nn.Dropout1d(0.2)\n",
    "        self.linear_6 = torch.nn.Linear(128, 64)\n",
    "        self.batch_norm_6 = torch.nn.BatchNorm1d(64)\n",
    "        self.linear_7 = torch.nn.Linear(64, 16)\n",
    "        self.batch_norm_7 = torch.nn.BatchNorm1d(16)\n",
    "        self.linear_8 = torch.nn.Linear(16, 1)\n",
    "\n",
    "    def forward(self, x):\n",
    "        x = self.linear_0(x)\n",
    "        x = self.batch_norm_0(x)\n",
    "        x = self.relu(x)\n",
    "        x = self.linear_1(x)\n",
    "        x = self.batch_norm_1(x)\n",
    "        x = self.relu(x)\n",
    "        x = self.linear_2(x)\n",
    "        x = self.batch_norm_2(x)\n",
    "        x = self.relu(x)\n",
    "        x = self.dr_2(x)\n",
    "        x = self.linear_3(x)\n",
    "        x = self.batch_norm_3(x)\n",
    "        x = self.relu(x)\n",
    "        x = self.linear_4(x)\n",
    "        x = self.batch_norm_4(x)\n",
    "        x = self.relu(x)\n",
    "        x = self.dr_5(x)\n",
    "        x = self.linear_5(x)\n",
    "        x = self.batch_norm_5(x)\n",
    "        x = self.relu(x)\n",
    "        x = self.linear_6(x)\n",
    "        x = self.batch_norm_6(x)\n",
    "        x = self.relu(x)\n",
    "        x = self.linear_7(x)\n",
    "        x = self.batch_norm_7(x)\n",
    "        x = self.relu(x)\n",
    "        x = self.linear_8(x)\n",
    "        return x\n",
    "\n",
    "\n",
    "model = Model()\n",
    "model.to(device)\n",
    "checkpoint = None\n",
    "# we need to add some weight to the success values because the labels are very unbalanced\n",
    "loss_fn = torch.nn.BCEWithLogitsLoss(pos_weight=torch.Tensor([17.0 / 18.0]))\n",
    "loss_fn.to(device)\n",
    "min_test_loss = None\n",
    "optimizer = torch.optim.Adam(model.parameters(), lr=LEARNING_RATE)"
   ]
  },
  {
   "cell_type": "code",
   "execution_count": 7,
   "id": "198484b5-c39a-430a-95de-65a8a89a1848",
   "metadata": {},
   "outputs": [],
   "source": [
    "def train_loop(dataloader, model, loss_fn, optimizer):\n",
    "    size = len(dataloader.dataset)\n",
    "    # Set the model to training mode - important for batch normalization and dropout layers\n",
    "    # Unnecessary in this situation but added for best practices\n",
    "    model.train()\n",
    "    for batch, (X, y) in enumerate(dataloader):\n",
    "        # Compute prediction and loss\n",
    "        X = X.to(device)\n",
    "        y = y.to(device)\n",
    "        pred = model(X)\n",
    "        y = y.unsqueeze(1)\n",
    "        loss = loss_fn(pred, y)\n",
    "\n",
    "        # Backpropagation\n",
    "        loss.backward()\n",
    "        optimizer.step()\n",
    "        optimizer.zero_grad()\n",
    "        if batch % 1000 == 0:\n",
    "            loss, current = loss.item(), (batch + 1) * len(X)\n",
    "            print(f\"Train loss: {loss:>7f}  [{current:>5d}/{size:>5d}]\")\n",
    "    return model, optimizer\n",
    "\n",
    "\n",
    "def test_loop(\n",
    "    dataloader, model, loss_fn, min_loss, checkpoint, threshold_fn=torch.round\n",
    "):\n",
    "    # Set the model to evaluation mode - important for batch normalization and dropout layers\n",
    "    # Unnecessary in this situation but added for best practices\n",
    "    model.eval()\n",
    "    size = len(dataloader.dataset)\n",
    "    num_batches = len(dataloader)\n",
    "    test_loss, correct = 0, 0\n",
    "\n",
    "    preds = []\n",
    "    targets = []\n",
    "    # Evaluating the model with torch.no_grad() ensures that no gradients are computed during test mode\n",
    "    # also serves to reduce unnecessary gradient computations and memory usage for tensors with requires_grad=True\n",
    "    with torch.no_grad():\n",
    "        for X, y in dataloader:\n",
    "            X = X.to(device)\n",
    "            y = y.to(device)\n",
    "            y = y.unsqueeze(1)\n",
    "            pred = model(X)\n",
    "            test_loss += loss_fn(pred, y).item()\n",
    "            pred = torch.sigmoid(pred)\n",
    "            pred = threshold_fn(pred)\n",
    "            correct += (pred == y).sum().item()\n",
    "            preds.extend(pred.cpu().numpy())\n",
    "            targets.extend(y.cpu().numpy())\n",
    "    print(classification_report(targets, preds))\n",
    "\n",
    "    test_loss /= num_batches\n",
    "    if not min_loss:\n",
    "        min_loss = test_loss\n",
    "        checkpoint = model\n",
    "    if test_loss < min_loss:\n",
    "        min_loss = test_loss\n",
    "        checkpoint = model\n",
    "    correct /= size\n",
    "    print(f\"Checkpoint test loss: {min_loss:>7f}\")\n",
    "    print(\n",
    "        f\"Test Error: \\n Accuracy: {(100*correct):>0.1f}%, Avg loss: {test_loss:>8f} \\n\"\n",
    "    )\n",
    "    return min_loss, checkpoint"
   ]
  },
  {
   "cell_type": "code",
   "execution_count": 8,
   "id": "34242941-e1f7-47fc-b6f2-68df0bf4844e",
   "metadata": {},
   "outputs": [
    {
     "name": "stdout",
     "output_type": "stream",
     "text": [
      "Train loss: 0.620757  [   32/150000]\n",
      "Train loss: 0.368500  [32032/150000]\n",
      "Train loss: 0.245626  [64032/150000]\n",
      "Train loss: 0.112327  [96032/150000]\n",
      "Train loss: 0.122903  [128032/150000]\n"
     ]
    },
    {
     "name": "stderr",
     "output_type": "stream",
     "text": [
      "/Users/ravipatel/default/lib/python3.10/site-packages/sklearn/metrics/_classification.py:1344: UndefinedMetricWarning: Precision and F-score are ill-defined and being set to 0.0 in labels with no predicted samples. Use `zero_division` parameter to control this behavior.\n",
      "  _warn_prf(average, modifier, msg_start, len(result))\n",
      "/Users/ravipatel/default/lib/python3.10/site-packages/sklearn/metrics/_classification.py:1344: UndefinedMetricWarning: Precision and F-score are ill-defined and being set to 0.0 in labels with no predicted samples. Use `zero_division` parameter to control this behavior.\n",
      "  _warn_prf(average, modifier, msg_start, len(result))\n",
      "/Users/ravipatel/default/lib/python3.10/site-packages/sklearn/metrics/_classification.py:1344: UndefinedMetricWarning: Precision and F-score are ill-defined and being set to 0.0 in labels with no predicted samples. Use `zero_division` parameter to control this behavior.\n",
      "  _warn_prf(average, modifier, msg_start, len(result))\n"
     ]
    },
    {
     "name": "stdout",
     "output_type": "stream",
     "text": [
      "              precision    recall  f1-score   support\n",
      "\n",
      "         0.0       0.90      1.00      0.95     44916\n",
      "         1.0       0.00      0.00      0.00      5084\n",
      "\n",
      "    accuracy                           0.90     50000\n",
      "   macro avg       0.45      0.50      0.47     50000\n",
      "weighted avg       0.81      0.90      0.85     50000\n",
      "\n",
      "Checkpoint test loss: 0.247649\n",
      "Test Error: \n",
      " Accuracy: 89.8%, Avg loss: 0.247649 \n",
      "\n",
      "Train loss: 0.199060  [   32/150000]\n",
      "Train loss: 0.405392  [32032/150000]\n",
      "Train loss: 0.248915  [64032/150000]\n",
      "Train loss: 0.104025  [96032/150000]\n",
      "Train loss: 0.160513  [128032/150000]\n"
     ]
    },
    {
     "name": "stderr",
     "output_type": "stream",
     "text": [
      "/Users/ravipatel/default/lib/python3.10/site-packages/sklearn/metrics/_classification.py:1344: UndefinedMetricWarning: Precision and F-score are ill-defined and being set to 0.0 in labels with no predicted samples. Use `zero_division` parameter to control this behavior.\n",
      "  _warn_prf(average, modifier, msg_start, len(result))\n",
      "/Users/ravipatel/default/lib/python3.10/site-packages/sklearn/metrics/_classification.py:1344: UndefinedMetricWarning: Precision and F-score are ill-defined and being set to 0.0 in labels with no predicted samples. Use `zero_division` parameter to control this behavior.\n",
      "  _warn_prf(average, modifier, msg_start, len(result))\n",
      "/Users/ravipatel/default/lib/python3.10/site-packages/sklearn/metrics/_classification.py:1344: UndefinedMetricWarning: Precision and F-score are ill-defined and being set to 0.0 in labels with no predicted samples. Use `zero_division` parameter to control this behavior.\n",
      "  _warn_prf(average, modifier, msg_start, len(result))\n"
     ]
    },
    {
     "name": "stdout",
     "output_type": "stream",
     "text": [
      "              precision    recall  f1-score   support\n",
      "\n",
      "         0.0       0.90      1.00      0.95     44916\n",
      "         1.0       0.00      0.00      0.00      5084\n",
      "\n",
      "    accuracy                           0.90     50000\n",
      "   macro avg       0.45      0.50      0.47     50000\n",
      "weighted avg       0.81      0.90      0.85     50000\n",
      "\n",
      "Checkpoint test loss: 0.244698\n",
      "Test Error: \n",
      " Accuracy: 89.8%, Avg loss: 0.244698 \n",
      "\n",
      "Train loss: 0.231259  [   32/150000]\n",
      "Train loss: 0.343190  [32032/150000]\n",
      "Train loss: 0.146317  [64032/150000]\n",
      "Train loss: 0.110111  [96032/150000]\n",
      "Train loss: 0.112218  [128032/150000]\n",
      "              precision    recall  f1-score   support\n",
      "\n",
      "         0.0       0.90      1.00      0.95     44916\n",
      "         1.0       0.92      0.04      0.07      5084\n",
      "\n",
      "    accuracy                           0.90     50000\n",
      "   macro avg       0.91      0.52      0.51     50000\n",
      "weighted avg       0.90      0.90      0.86     50000\n",
      "\n",
      "Checkpoint test loss: 0.239098\n",
      "Test Error: \n",
      " Accuracy: 90.2%, Avg loss: 0.239098 \n",
      "\n",
      "Train loss: 0.220991  [   32/150000]\n",
      "Train loss: 0.276530  [32032/150000]\n",
      "Train loss: 0.218111  [64032/150000]\n",
      "Train loss: 0.115187  [96032/150000]\n",
      "Train loss: 0.122528  [128032/150000]\n",
      "              precision    recall  f1-score   support\n",
      "\n",
      "         0.0       0.90      1.00      0.95     44916\n",
      "         1.0       0.94      0.01      0.03      5084\n",
      "\n",
      "    accuracy                           0.90     50000\n",
      "   macro avg       0.92      0.51      0.49     50000\n",
      "weighted avg       0.90      0.90      0.85     50000\n",
      "\n",
      "Checkpoint test loss: 0.239098\n",
      "Test Error: \n",
      " Accuracy: 90.0%, Avg loss: 0.244741 \n",
      "\n",
      "Train loss: 0.174345  [   32/150000]\n",
      "Train loss: 0.342462  [32032/150000]\n",
      "Train loss: 0.249380  [64032/150000]\n",
      "Train loss: 0.099837  [96032/150000]\n",
      "Train loss: 0.167197  [128032/150000]\n",
      "              precision    recall  f1-score   support\n",
      "\n",
      "         0.0       0.90      1.00      0.95     44916\n",
      "         1.0       0.90      0.04      0.08      5084\n",
      "\n",
      "    accuracy                           0.90     50000\n",
      "   macro avg       0.90      0.52      0.52     50000\n",
      "weighted avg       0.90      0.90      0.86     50000\n",
      "\n",
      "Checkpoint test loss: 0.239098\n",
      "Test Error: \n",
      " Accuracy: 90.2%, Avg loss: 0.245254 \n",
      "\n"
     ]
    }
   ],
   "source": [
    "for i in range(EPOCHS):\n",
    "    model, optimizer = train_loop(dataloader_train, model, loss_fn, optimizer)\n",
    "    min_test_loss, checkpoint = test_loop(dataloader_test, model, loss_fn, min_test_loss, checkpoint)"
   ]
  },
  {
   "cell_type": "code",
   "execution_count": 9,
   "id": "77eeb4ec-fc53-43a4-a7c5-322d5a604925",
   "metadata": {},
   "outputs": [
    {
     "name": "stdout",
     "output_type": "stream",
     "text": [
      "Final checkpoint model loss: 0.2390975854690267\n"
     ]
    }
   ],
   "source": [
    "print(f\"Final checkpoint model loss: {min_test_loss}\")"
   ]
  },
  {
   "cell_type": "code",
   "execution_count": 10,
   "id": "412b3261-2f68-4316-b8c9-0aa836cd1e19",
   "metadata": {},
   "outputs": [],
   "source": [
    "# Recall is less than ideal, but this dataset is fairly imbalanced toward 0 for the label."
   ]
  },
  {
   "cell_type": "code",
   "execution_count": 11,
   "id": "60894361-6743-4518-8ba0-bc502f3d119b",
   "metadata": {},
   "outputs": [
    {
     "data": {
      "image/png": "[encoded data removed]",
      "text/plain": [
       "<Figure size 640x480 with 1 Axes>"
      ]
     },
     "metadata": {},
     "output_type": "display_data"
    }
   ],
   "source": [
    "def get_roc_auc(dataloader_test, model):\n",
    "    model.eval()\n",
    "    preds = []\n",
    "    targets = []\n",
    "    with torch.no_grad():\n",
    "        for X, y in dataloader_test:\n",
    "            X = X.to(device)\n",
    "            pred = model(X)\n",
    "            pred = torch.sigmoid(pred)\n",
    "            preds.extend(pred.cpu().numpy())\n",
    "            targets.extend(y.cpu().numpy())\n",
    "    RocCurveDisplay.from_predictions(\n",
    "        targets,\n",
    "        preds,\n",
    "        name=f\"ROC\",\n",
    "        color=\"darkorange\",\n",
    "    )\n",
    "    auc = roc_auc_score(targets, preds)\n",
    "    fps, tps, thresholds = roc_curve(targets, preds)\n",
    "    return (auc, fps, tps, thresholds)\n",
    "\n",
    "\n",
    "auc, fps, tps, thresholds = get_roc_auc(dataloader_test, model)"
   ]
  },
  {
   "cell_type": "code",
   "execution_count": 12,
   "id": "899a2496",
   "metadata": {},
   "outputs": [
    {
     "name": "stdout",
     "output_type": "stream",
     "text": [
      "Best Threshold=0.052179, G-Mean=0.767\n"
     ]
    }
   ],
   "source": [
    "gmeans = np.sqrt(tps * (1 - fps))\n",
    "i = np.argmax(gmeans)\n",
    "print(\"Best Threshold=%f, G-Mean=%.3f\" % (thresholds[i], gmeans[i]))"
   ]
  },
  {
   "cell_type": "code",
   "execution_count": 13,
   "id": "65383d7a",
   "metadata": {},
   "outputs": [
    {
     "name": "stdout",
     "output_type": "stream",
     "text": [
      "              precision    recall  f1-score   support\n",
      "\n",
      "         0.0       0.97      0.77      0.86     44916\n",
      "         1.0       0.27      0.77      0.40      5084\n",
      "\n",
      "    accuracy                           0.77     50000\n",
      "   macro avg       0.62      0.77      0.63     50000\n",
      "weighted avg       0.90      0.77      0.81     50000\n",
      "\n",
      "Checkpoint test loss: 0.239098\n",
      "Test Error: \n",
      " Accuracy: 76.7%, Avg loss: 0.245254 \n",
      "\n"
     ]
    }
   ],
   "source": [
    "_, _ = test_loop(\n",
    "    dataloader_test,\n",
    "    model,\n",
    "    loss_fn,\n",
    "    min_test_loss,\n",
    "    checkpoint,\n",
    "    lambda x: (x > thresholds[i]).type(torch.int8),\n",
    ")"
   ]
  },
  {
   "cell_type": "code",
   "execution_count": 14,
   "id": "4e8f66a3",
   "metadata": {},
   "outputs": [],
   "source": [
    "# Adjusting the threshold from round to manual, our recall has significantly increased but have lost precision.\n",
    "# The real question here is what is actually important in terms of risk. "
   ]
  }
 ],
 "metadata": {
  "kernelspec": {
   "display_name": "Python 3 (ipykernel)",
   "language": "python",
   "name": "python3"
  },
  "language_info": {
   "codemirror_mode": {
    "name": "ipython",
    "version": 3
   },
   "file_extension": ".py",
   "mimetype": "text/x-python",
   "name": "python",
   "nbconvert_exporter": "python",
   "pygments_lexer": "ipython3",
   "version": "3.10.13"
  }
 },
 "nbformat": 4,
 "nbformat_minor": 5
}
