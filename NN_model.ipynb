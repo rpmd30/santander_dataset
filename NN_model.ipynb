{
 "cells": [
  {
   "cell_type": "code",
   "execution_count": 1,
   "id": "0025c350-ef3b-4e81-8dfa-9f339814bfb9",
   "metadata": {},
   "outputs": [
    {
     "name": "stdout",
     "output_type": "stream",
     "text": [
      "mps\n"
     ]
    }
   ],
   "source": [
    "import matplotlib.pyplot as plt\n",
    "import torch\n",
    "import pandas as pd\n",
    "from sklearn.model_selection import train_test_split\n",
    "from sklearn.metrics import classification_report, RocCurveDisplay, roc_auc_score, roc_curve\n",
    "from sklearn.preprocessing import normalize\n",
    "import numpy as np\n",
    "if torch.cuda.is_available():\n",
    "    device = 'cuda'\n",
    "elif torch.backends.mps.is_available():\n",
    "    device = 'mps'\n",
    "else:\n",
    "    device = 'cpu'\n",
    "print(device)"
   ]
  },
  {
   "cell_type": "code",
   "execution_count": 2,
   "id": "35712b6a-cc89-4f6d-ac60-0fc7bc5b459f",
   "metadata": {},
   "outputs": [],
   "source": [
    "EPOCHS=5\n",
    "BATCH_SIZE=32\n",
    "LEARNING_RATE=.003\n",
    "df = pd.read_csv('dataset/train.csv')\n",
    "\n",
    "y = df['target'].values\n",
    "\n",
    "del df['target']\n",
    "del df['ID_code']\n",
    "X = df.values\n",
    "\n",
    "X = normalize(X)\n",
    "X_train, X_test, y_train, y_test = train_test_split(X,y)"
   ]
  },
  {
   "cell_type": "code",
   "execution_count": 3,
   "id": "62e93097-bba7-46f8-ada6-c9211337d1d1",
   "metadata": {},
   "outputs": [
    {
     "data": {
      "text/plain": [
       "(array([134816.,      0.,      0.,      0.,      0.,      0.,      0.,\n",
       "             0.,      0.,  15184.]),\n",
       " array([0. , 0.1, 0.2, 0.3, 0.4, 0.5, 0.6, 0.7, 0.8, 0.9, 1. ]),\n",
       " <BarContainer object of 10 artists>)"
      ]
     },
     "execution_count": 3,
     "metadata": {},
     "output_type": "execute_result"
    },
    {
     "data": {
      "image/png": "[encoded data removed]",
      "text/plain": [
       "<Figure size 640x480 with 1 Axes>"
      ]
     },
     "metadata": {},
     "output_type": "display_data"
    }
   ],
   "source": [
    "plt.hist(y_train)"
   ]
  },
  {
   "cell_type": "code",
   "execution_count": 4,
   "id": "84434568-cabc-42e8-8ed6-7051c250cc03",
   "metadata": {},
   "outputs": [
    {
     "name": "stdout",
     "output_type": "stream",
     "text": [
      "y_train[:10]:[0 0 1 0 0 0 0 0 0 0]\n",
      "X_train[:10]:[[ 0.05297498 -0.02109075  0.0576271  ...  0.04622376  0.09143946\n",
      "   0.00327425]\n",
      " [ 0.04440048  0.02134786  0.06512337 ...  0.06425629  0.09403282\n",
      "  -0.05742665]\n",
      " [ 0.04712394 -0.02744262  0.07369834 ...  0.06358745  0.08798493\n",
      "   0.02392065]\n",
      " ...\n",
      " [ 0.07971218 -0.03996552  0.03564397 ...  0.04192872  0.09501301\n",
      "  -0.02738403]\n",
      " [ 0.08403659 -0.02225589  0.0811258  ...  0.0473577   0.09014025\n",
      "   0.01971774]\n",
      " [ 0.06852685 -0.00685806  0.05853511 ...  0.04886353  0.07278877\n",
      "   0.04264284]]\n",
      "y_test[:10]:[1 0 0 0 1 0 0 0 0 0]\n",
      "X_test[:10]:[[ 0.04606019  0.03284163  0.07998436 ...  0.05137648  0.06748664\n",
      "   0.06308276]\n",
      " [ 0.03494915 -0.03672656  0.0604417  ...  0.04546976  0.12070895\n",
      "  -0.05339329]\n",
      " [ 0.03984217 -0.03394048  0.06080147 ...  0.05172488  0.08259098\n",
      "  -0.10699404]\n",
      " ...\n",
      " [ 0.03802162 -0.0295824   0.0508397  ...  0.05442105  0.09058333\n",
      "   0.07951499]\n",
      " [ 0.09209049  0.02456816  0.07517703 ...  0.05447633  0.11434878\n",
      "  -0.02333692]\n",
      " [ 0.04653682  0.01649703  0.07580413 ...  0.05736804  0.12328859\n",
      "  -0.09955136]]\n"
     ]
    }
   ],
   "source": [
    "print(f\"y_train[:10]:{y_train[:10]}\")\n",
    "print(f\"X_train[:10]:{X_train[:10]}\")\n",
    "\n",
    "print(f\"y_test[:10]:{y_test[:10]}\")\n",
    "print(f\"X_test[:10]:{X_test[:10]}\")"
   ]
  },
  {
   "cell_type": "code",
   "execution_count": 5,
   "id": "0b8a74c8-2def-4cb6-bdc9-0b19b68e2a08",
   "metadata": {},
   "outputs": [],
   "source": [
    "class TransactionsDataset(torch.utils.data.Dataset):\n",
    "    def __init__(self,X,y):\n",
    "        self.X = X\n",
    "        self.y = y\n",
    "    def __len__(self):\n",
    "        return len(self.X)\n",
    "    def __getitem__(self,idx):\n",
    "        return self.X[idx].astype(np.float32), self.y[idx].astype(np.float32)\n",
    "\n",
    "dataset_train = TransactionsDataset(X_train,y_train)\n",
    "dataset_test = TransactionsDataset(X_test,y_test)\n",
    "dataloader_train = torch.utils.data.DataLoader(dataset_train,batch_size=BATCH_SIZE)\n",
    "dataloader_test = torch.utils.data.DataLoader(dataset_test,batch_size=BATCH_SIZE)"
   ]
  },
  {
   "cell_type": "code",
   "execution_count": 6,
   "id": "4e85d896-635c-47d8-b0e3-93e2f42dbe13",
   "metadata": {},
   "outputs": [],
   "source": [
    "class Model(torch.nn.Module):\n",
    "    def __init__(self):\n",
    "        super(Model,self).__init__()\n",
    "        self.linear_0 = torch.nn.Linear(200,1024)\n",
    "        self.batch_norm_0 = torch.nn.BatchNorm1d(1024)\n",
    "        self.relu_0 = torch.nn.ReLU(1024)\n",
    "        self.linear_1 = torch.nn.Linear(1024,2048)\n",
    "        self.batch_norm_1 = torch.nn.BatchNorm1d(2048)\n",
    "        self.relu_1 = torch.nn.ReLU(2048)\n",
    "        self.linear_2 = torch.nn.Linear(2048,1024)\n",
    "        self.batch_norm_2 = torch.nn.BatchNorm1d(1024)\n",
    "        self.relu_2 = torch.nn.ReLU(1024)\n",
    "        self.dr_2 = torch.nn.Dropout1d(.2)\n",
    "        self.linear_3 = torch.nn.Linear(1024,512)\n",
    "        self.batch_norm_3 = torch.nn.BatchNorm1d(512)\n",
    "        self.relu_3 = torch.nn.ReLU(512)\n",
    "        self.linear_4 = torch.nn.Linear(512,256)\n",
    "        self.batch_norm_4 = torch.nn.BatchNorm1d(256)\n",
    "        self.relu_4 = torch.nn.ReLU(256)\n",
    "        self.linear_5 = torch.nn.Linear(256,128)\n",
    "        self.batch_norm_5 = torch.nn.BatchNorm1d(128)\n",
    "        self.relu_5 = torch.nn.ReLU(128)\n",
    "        self.dr_5 = torch.nn.Dropout1d(.2)\n",
    "        self.linear_6 = torch.nn.Linear(128,64)\n",
    "        self.batch_norm_6 = torch.nn.BatchNorm1d(64)\n",
    "        self.relu_6 = torch.nn.ReLU(64)\n",
    "        self.linear_7 = torch.nn.Linear(64,16)\n",
    "        self.relu_7 = torch.nn.ReLU(16)\n",
    "        self.batch_norm_7 = torch.nn.BatchNorm1d(16)\n",
    "        self.linear_8 = torch.nn.Linear(16,1)\n",
    "        self.relu_8 = torch.nn.ReLU(1)\n",
    "    \n",
    "    def forward(self,x):\n",
    "        x = self.linear_0(x)\n",
    "        x = self.batch_norm_0(x)\n",
    "        x = self.relu_0(x)\n",
    "        x = self.linear_1(x)\n",
    "        x = self.batch_norm_1(x)\n",
    "        x = self.relu_1(x)\n",
    "        x = self.linear_2(x)\n",
    "        x = self.batch_norm_2(x)\n",
    "        x = self.relu_2(x)\n",
    "        x = self.dr_2(x)\n",
    "        x = self.linear_3(x)\n",
    "        x = self.batch_norm_3(x)\n",
    "        x = self.relu_3(x)\n",
    "        x = self.linear_4(x)\n",
    "        x = self.batch_norm_4(x)\n",
    "        x = self.relu_5(x)\n",
    "        x = self.dr_5(x)\n",
    "        x = self.linear_5(x)\n",
    "        x = self.batch_norm_5(x)\n",
    "        x = self.relu_6(x)\n",
    "        x = self.linear_6(x)\n",
    "        x = self.batch_norm_6(x)\n",
    "        x = self.relu_7(x)\n",
    "        x = self.linear_7(x)\n",
    "        x = self.batch_norm_7(x)\n",
    "        x = self.relu_8(x)\n",
    "        x = self.linear_8(x)\n",
    "        return x\n",
    "    \n",
    "\n",
    "model = Model()\n",
    "model.to(device)\n",
    "checkpoint = None\n",
    "# we need to add some weight to the success values because the labels are very unbalanced\n",
    "loss = torch.nn.BCEWithLogitsLoss(pos_weight=torch.Tensor([17.0/18.0]))\n",
    "loss.to(device)\n",
    "min_loss = None\n",
    "optimizer = torch.optim.Adam(model.parameters(),lr=LEARNING_RATE)"
   ]
  },
  {
   "cell_type": "code",
   "execution_count": 7,
   "id": "198484b5-c39a-430a-95de-65a8a89a1848",
   "metadata": {},
   "outputs": [],
   "source": [
    "def train_loop(dataloader, model, loss_fn, optimizer, min_loss, checkpoint):\n",
    "    size = len(dataloader.dataset)\n",
    "    # Set the model to training mode - important for batch normalization and dropout layers\n",
    "    # Unnecessary in this situation but added for best practices\n",
    "    model.train()\n",
    "    for batch, (X, y) in enumerate(dataloader):\n",
    "        # Compute prediction and loss\n",
    "        X = X.to(device)\n",
    "        y = y.to(device)\n",
    "        pred = model(X)\n",
    "        y = y.unsqueeze(1)\n",
    "        loss = loss_fn(pred, y)\n",
    "\n",
    "        # Backpropagation\n",
    "        loss.backward()\n",
    "        optimizer.step()\n",
    "        optimizer.zero_grad()\n",
    "        if batch % 1000 == 0:\n",
    "            loss, current = loss.item(), (batch + 1) * len(X)\n",
    "            print(f\"Train loss: {loss:>7f}  [{current:>5d}/{size:>5d}]\")\n",
    "    if not min_loss:\n",
    "        min_loss = loss\n",
    "        checkpoint = model\n",
    "    if loss.item() < min_loss.item():\n",
    "        min_loss = loss\n",
    "        checkpoint = model\n",
    "    print(f\"Checkpoint training loss:{min_loss:>7f}\")\n",
    "    return model, optimizer, min_loss, checkpoint\n",
    "\n",
    "def test_loop(dataloader, model, loss_fn):\n",
    "    # Set the model to evaluation mode - important for batch normalization and dropout layers\n",
    "    # Unnecessary in this situation but added for best practices\n",
    "    model.eval()\n",
    "    size = len(dataloader.dataset)\n",
    "    num_batches = len(dataloader)\n",
    "    test_loss, correct = 0, 0\n",
    "\n",
    "    preds = []\n",
    "    targets = []\n",
    "    # Evaluating the model with torch.no_grad() ensures that no gradients are computed during test mode\n",
    "    # also serves to reduce unnecessary gradient computations and memory usage for tensors with requires_grad=True\n",
    "    with torch.no_grad():\n",
    "        for X, y in dataloader:\n",
    "            X = X.to(device)\n",
    "            y = y.to(device)\n",
    "            y = y.unsqueeze(1)\n",
    "            pred = model(X)\n",
    "            test_loss += loss_fn(pred, y).item()\n",
    "            pred = torch.sigmoid(pred)\n",
    "            pred = torch.round(pred)\n",
    "            correct += (pred == y).sum().item()\n",
    "            preds.extend(pred.cpu().numpy())\n",
    "            targets.extend(y.cpu().numpy())\n",
    "    print(classification_report(targets,preds))\n",
    "            \n",
    "\n",
    "    test_loss /= num_batches\n",
    "    correct /= size\n",
    "    print(f\"Test Error: \\n Accuracy: {(100*correct):>0.1f}%, Avg loss: {test_loss:>8f} \\n\")"
   ]
  },
  {
   "cell_type": "code",
   "execution_count": 8,
   "id": "34242941-e1f7-47fc-b6f2-68df0bf4844e",
   "metadata": {},
   "outputs": [
    {
     "name": "stdout",
     "output_type": "stream",
     "text": [
      "Train loss: 0.572364  [   32/150000]\n",
      "Train loss: 0.249085  [32032/150000]\n",
      "Train loss: 0.455986  [64032/150000]\n",
      "Train loss: 0.421858  [96032/150000]\n",
      "Train loss: 0.358395  [128032/150000]\n",
      "Checkpoint training loss:0.244461\n",
      "              precision    recall  f1-score   support\n",
      "\n",
      "         0.0       0.90      1.00      0.95     45086\n",
      "         1.0       0.89      0.02      0.04      4914\n",
      "\n",
      "    accuracy                           0.90     50000\n",
      "   macro avg       0.90      0.51      0.50     50000\n",
      "weighted avg       0.90      0.90      0.86     50000\n",
      "\n",
      "Test Error: \n",
      " Accuracy: 90.4%, Avg loss: 0.238769 \n",
      "\n",
      "Train loss: 0.302588  [   32/150000]\n",
      "Train loss: 0.188206  [32032/150000]\n",
      "Train loss: 0.387081  [64032/150000]\n",
      "Train loss: 0.410054  [96032/150000]\n",
      "Train loss: 0.327934  [128032/150000]\n",
      "Checkpoint training loss:0.244461\n",
      "              precision    recall  f1-score   support\n",
      "\n",
      "         0.0       0.90      1.00      0.95     45086\n",
      "         1.0       0.97      0.01      0.02      4914\n",
      "\n",
      "    accuracy                           0.90     50000\n",
      "   macro avg       0.94      0.51      0.49     50000\n",
      "weighted avg       0.91      0.90      0.86     50000\n",
      "\n",
      "Test Error: \n",
      " Accuracy: 90.3%, Avg loss: 0.235652 \n",
      "\n",
      "Train loss: 0.346975  [   32/150000]\n",
      "Train loss: 0.165292  [32032/150000]\n",
      "Train loss: 0.338887  [64032/150000]\n",
      "Train loss: 0.436356  [96032/150000]\n",
      "Train loss: 0.295170  [128032/150000]\n",
      "Checkpoint training loss:0.244461\n",
      "              precision    recall  f1-score   support\n",
      "\n",
      "         0.0       0.90      1.00      0.95     45086\n",
      "         1.0       0.94      0.03      0.05      4914\n",
      "\n",
      "    accuracy                           0.90     50000\n",
      "   macro avg       0.92      0.51      0.50     50000\n",
      "weighted avg       0.91      0.90      0.86     50000\n",
      "\n",
      "Test Error: \n",
      " Accuracy: 90.4%, Avg loss: 0.237987 \n",
      "\n",
      "Train loss: 0.284158  [   32/150000]\n",
      "Train loss: 0.160131  [32032/150000]\n",
      "Train loss: 0.460521  [64032/150000]\n",
      "Train loss: 0.395879  [96032/150000]\n",
      "Train loss: 0.393095  [128032/150000]\n",
      "Checkpoint training loss:0.244461\n",
      "              precision    recall  f1-score   support\n",
      "\n",
      "         0.0       0.91      1.00      0.95     45086\n",
      "         1.0       0.93      0.04      0.07      4914\n",
      "\n",
      "    accuracy                           0.91     50000\n",
      "   macro avg       0.92      0.52      0.51     50000\n",
      "weighted avg       0.91      0.91      0.86     50000\n",
      "\n",
      "Test Error: \n",
      " Accuracy: 90.5%, Avg loss: 0.235081 \n",
      "\n",
      "Train loss: 0.262174  [   32/150000]\n",
      "Train loss: 0.227327  [32032/150000]\n",
      "Train loss: 0.449475  [64032/150000]\n",
      "Train loss: 0.343852  [96032/150000]\n",
      "Train loss: 0.322717  [128032/150000]\n",
      "Checkpoint training loss:0.223359\n",
      "              precision    recall  f1-score   support\n",
      "\n",
      "         0.0       0.91      1.00      0.95     45086\n",
      "         1.0       0.91      0.06      0.10      4914\n",
      "\n",
      "    accuracy                           0.91     50000\n",
      "   macro avg       0.91      0.53      0.53     50000\n",
      "weighted avg       0.91      0.91      0.87     50000\n",
      "\n",
      "Test Error: \n",
      " Accuracy: 90.7%, Avg loss: 0.235002 \n",
      "\n"
     ]
    }
   ],
   "source": [
    "for i in range(EPOCHS):\n",
    "    model, optimizer, min_loss, checkpoint = train_loop(dataloader_train, model, loss, optimizer, min_loss, checkpoint)\n",
    "    test_loop(dataloader_test, model, loss)"
   ]
  },
  {
   "cell_type": "code",
   "execution_count": 9,
   "id": "77eeb4ec-fc53-43a4-a7c5-322d5a604925",
   "metadata": {},
   "outputs": [
    {
     "name": "stdout",
     "output_type": "stream",
     "text": [
      "Final checkpoint model loss: 0.2233591079711914\n"
     ]
    }
   ],
   "source": [
    "print(f\"Final checkpoint model loss: {min_loss.item()}\")"
   ]
  },
  {
   "cell_type": "code",
   "execution_count": 10,
   "id": "412b3261-2f68-4316-b8c9-0aa836cd1e19",
   "metadata": {},
   "outputs": [],
   "source": [
    "# Recall is less than ideal, but this dataset is fairly imbalanced toward 0 for the label."
   ]
  },
  {
   "cell_type": "code",
   "execution_count": 11,
   "id": "60894361-6743-4518-8ba0-bc502f3d119b",
   "metadata": {},
   "outputs": [
    {
     "data": {
      "image/png": "[encoded data removed]",
      "text/plain": [
       "<Figure size 640x480 with 1 Axes>"
      ]
     },
     "metadata": {},
     "output_type": "display_data"
    }
   ],
   "source": [
    "def get_roc_auc(dataloader_test, model):\n",
    "    model.eval()\n",
    "    preds = []\n",
    "    targets = []\n",
    "    with torch.no_grad():\n",
    "        for X, y in dataloader_test:\n",
    "            X = X.to(device)\n",
    "            pred = model(X)\n",
    "            pred = torch.sigmoid(pred)\n",
    "            preds.extend(pred.cpu().numpy())\n",
    "            targets.extend(y.cpu().numpy())\n",
    "    RocCurveDisplay.from_predictions(\n",
    "        targets,\n",
    "        preds,\n",
    "        name=f\"ROC\",\n",
    "        color=\"darkorange\",\n",
    "    )\n",
    "    auc = roc_auc_score(targets, preds)\n",
    "    fps, tps, thresholds = roc_curve(targets, preds)\n",
    "    return (auc, fps, tps, thresholds)\n",
    "\n",
    "\n",
    "_ = get_roc_auc(dataloader_test, model)"
   ]
  }
 ],
 "metadata": {
  "kernelspec": {
   "display_name": "Python 3 (ipykernel)",
   "language": "python",
   "name": "python3"
  },
  "language_info": {
   "codemirror_mode": {
    "name": "ipython",
    "version": 3
   },
   "file_extension": ".py",
   "mimetype": "text/x-python",
   "name": "python",
   "nbconvert_exporter": "python",
   "pygments_lexer": "ipython3",
   "version": "3.10.12"
  }
 },
 "nbformat": 4,
 "nbformat_minor": 5
}
